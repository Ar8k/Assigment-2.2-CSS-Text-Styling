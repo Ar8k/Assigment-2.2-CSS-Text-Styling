{
  "nbformat": 4,
  "nbformat_minor": 0,
  "metadata": {
    "colab": {
      "provenance": [],
      "include_colab_link": true
    },
    "kernelspec": {
      "name": "python3",
      "display_name": "Python 3"
    },
    "language_info": {
      "name": "python"
    }
  },
  "cells": [
    {
      "cell_type": "markdown",
      "metadata": {
        "id": "view-in-github",
        "colab_type": "text"
      },
      "source": [
        "<a href=\"https://colab.research.google.com/github/Ar8k/Assigment-2.2-CSS-Text-Styling/blob/main/Week3_Assignment_3_1.ipynb\" target=\"_parent\"><img src=\"https://colab.research.google.com/assets/colab-badge.svg\" alt=\"Open In Colab\"/></a>"
      ]
    },
    {
      "cell_type": "markdown",
      "source": [
        "Read the dataset using pandas. The dataset will be available in the same folder.\n",
        "After reading the dataset, perform the following exploratory data analysis.\n",
        "\n",
        "Dataset resource:\n",
        "https://www.openintro.org/data/index.php\n",
        "\n",
        "https://www.openintro.org/data/index.php?data=nycflights\n"
      ],
      "metadata": {
        "id": "667vjeJv1xRT"
      }
    },
    {
      "cell_type": "markdown",
      "source": [
        "You can choose to **answer 5 questions** for the assignment. **5 are graded**\n",
        "\n",
        "***Use the rest to test your knowledge***"
      ],
      "metadata": {
        "id": "_Hooi2yOHkU3"
      }
    },
    {
      "cell_type": "code",
      "source": [
        "import pandas as pd"
      ],
      "metadata": {
        "id": "BIBg_3YWpHdg"
      },
      "execution_count": 2,
      "outputs": []
    },
    {
      "cell_type": "code",
      "source": [
        "from google.colab import files\n",
        "uploaded = files.upload() #here i uploaded the nyc flights file from my downloads"
      ],
      "metadata": {
        "id": "wQzCfHxdqdzV"
      },
      "execution_count": null,
      "outputs": []
    },
    {
      "cell_type": "markdown",
      "source": [
        "1. How many flights were operated by American Airlines and how many by Delta Airlines ?"
      ],
      "metadata": {
        "id": "8a5x8_yJEhY_"
      }
    },
    {
      "cell_type": "code",
      "source": [
        "American_flights = df[df['carrier'] == 'AA'] #filtering by the carrier codes\n",
        "Delta_flights = df[df['carrier'] == 'DL']\n",
        "print (\"Amount of American Airlines flights: \", len(American_flights))\n",
        "print (\"Amount of Delta Airlines flights: \", len(Delta_flights))"
      ],
      "metadata": {
        "id": "o96PlT0mEjBi",
        "outputId": "91a926a7-2f1f-4986-d606-72ad04858590",
        "colab": {
          "base_uri": "https://localhost:8080/"
        }
      },
      "execution_count": 11,
      "outputs": [
        {
          "output_type": "stream",
          "name": "stdout",
          "text": [
            "Amount of American Airlines flights:  3188\n",
            "Amount of Delta Airlines flights:  4751\n"
          ]
        }
      ]
    },
    {
      "cell_type": "markdown",
      "source": [
        "2. Identify the top destinations from each JFK airport."
      ],
      "metadata": {
        "id": "JZqOpQMQEyu3"
      }
    },
    {
      "cell_type": "code",
      "source": [
        "jfk_flights = df[df['origin'] == 'JFK'] #looking for only flights out of JFK\n",
        "top_dest = jfk_flights['dest'].value_counts().head(10) #looks at how often each (dest) appears\n",
        "\n",
        "print (\"The top destinations from JFK Airport are: \", top_dest)\n"
      ],
      "metadata": {
        "id": "CnR-xfeYE29t",
        "outputId": "d91cb0f2-93ee-421d-ea99-b036db1c1e55",
        "colab": {
          "base_uri": "https://localhost:8080/"
        }
      },
      "execution_count": 12,
      "outputs": [
        {
          "output_type": "stream",
          "name": "stdout",
          "text": [
            "The top destinations from JFK Airport are:  dest\n",
            "LAX    1115\n",
            "SFO     832\n",
            "BOS     585\n",
            "MCO     529\n",
            "SJU     471\n",
            "FLL     424\n",
            "LAS     392\n",
            "BUF     357\n",
            "MIA     344\n",
            "DCA     317\n",
            "Name: count, dtype: int64\n"
          ]
        }
      ]
    },
    {
      "cell_type": "markdown",
      "source": [
        "3. Count the number of flights departing from each origin airport to different destinations.\n"
      ],
      "metadata": {
        "id": "BmetP3U8FMRc"
      }
    },
    {
      "cell_type": "code",
      "source": [
        "#Code here"
      ],
      "metadata": {
        "id": "V66Rj-WwFJ_6"
      },
      "execution_count": null,
      "outputs": []
    },
    {
      "cell_type": "markdown",
      "source": [
        "4. How missing values are there in the column dep_time?\n"
      ],
      "metadata": {
        "id": "zMZ0HfmgFVNT"
      }
    },
    {
      "cell_type": "code",
      "source": [
        "missing_dep_times = df['dep_time'].isna().sum() #checking for nan values, then checking how many are true/missing\n",
        "print (f\"The missing values in dep_time are: \", missing_dep_times)\n",
        "\n",
        "\n"
      ],
      "metadata": {
        "id": "uuOnm7j-HPOZ",
        "outputId": "25554718-4da2-4f5c-9639-bf32979f5c12",
        "colab": {
          "base_uri": "https://localhost:8080/"
        }
      },
      "execution_count": 19,
      "outputs": [
        {
          "output_type": "stream",
          "name": "stdout",
          "text": [
            "The missing values in dep_time are:  0\n"
          ]
        }
      ]
    },
    {
      "cell_type": "markdown",
      "source": [
        "5. Identify the airline with the highest average departure delay.\n"
      ],
      "metadata": {
        "id": "GDfrzusyFcKK"
      }
    },
    {
      "cell_type": "code",
      "source": [
        "average_dep = df.groupby('carrier')['dep_delay'].mean() #grouping the data by the carrier column\n",
        "highest_dep_car = average_dep.idxmax()\n",
        "highest_dep_value = average_dep.max() #getting the avg of the departure delay from each carrier\n",
        "print (f\"The airline with the highest departure time is: {highest_dep_car} \")\n",
        "print (f\"The average departure time is: {highest_dep_value} \")\n",
        "\n"
      ],
      "metadata": {
        "id": "anz3i3ErHQCC",
        "outputId": "8beb684d-7f93-4d2e-b5b5-18254e83c563",
        "colab": {
          "base_uri": "https://localhost:8080/"
        }
      },
      "execution_count": 16,
      "outputs": [
        {
          "output_type": "stream",
          "name": "stdout",
          "text": [
            "The airline with the highest departure time is: HA \n",
            "The average departure time is: 38.529411764705884 \n"
          ]
        }
      ]
    },
    {
      "cell_type": "markdown",
      "source": [
        "6. Count the number of flights departing from each origin airport to different destinations.\n"
      ],
      "metadata": {
        "id": "f6clZM7_E5A7"
      }
    },
    {
      "cell_type": "code",
      "source": [
        "number_of_flights = df.groupby (['origin', 'dest']).size().reset_index(name='flight_number') #grouping the flights by thier origin and dest airport, and counting how many flights in each group,at the end converting it back to a dataframe with a comlumn\n",
        "print (f\"The amount of flights departing are: \" , number_of_flights)\n"
      ],
      "metadata": {
        "id": "1qMykSrcHSky",
        "outputId": "8f50fac7-ddf4-41b1-87f2-a6f10a1f4a3f",
        "colab": {
          "base_uri": "https://localhost:8080/"
        }
      },
      "execution_count": 17,
      "outputs": [
        {
          "output_type": "stream",
          "name": "stdout",
          "text": [
            "The amount of flights departing are:      origin dest  flight_number\n",
            "0      EWR  ALB             37\n",
            "1      EWR  ANC              1\n",
            "2      EWR  ATL            512\n",
            "3      EWR  AUS             94\n",
            "4      EWR  AVL             25\n",
            "..     ...  ...            ...\n",
            "209    LGA  SYR             23\n",
            "210    LGA  TPA            198\n",
            "211    LGA  TVC              5\n",
            "212    LGA  TYS             39\n",
            "213    LGA  XNA             65\n",
            "\n",
            "[214 rows x 3 columns]\n"
          ]
        }
      ]
    },
    {
      "cell_type": "markdown",
      "source": [
        "7. Extract the hour, minutes from the 'DEP_TIME' column and add put it into new column with appropriate names"
      ],
      "metadata": {
        "id": "EYVU1eyTF8FE"
      }
    },
    {
      "cell_type": "code",
      "source": [
        "#Code here"
      ],
      "metadata": {
        "id": "KFrQlL-OHTYF"
      },
      "execution_count": null,
      "outputs": []
    },
    {
      "cell_type": "markdown",
      "source": [
        "8. Plot a histogram to visualize the distribution of departure delays during different times of the day.\n",
        "\n",
        "**Note: dep_delay, arr_delay values are in minutes. Negative times represent early departures/arrivals.**\n",
        "\n",
        "\n",
        "\n",
        "\n"
      ],
      "metadata": {
        "id": "DLMJ0c3eDJDM"
      }
    },
    {
      "cell_type": "code",
      "execution_count": null,
      "metadata": {
        "id": "kNIgK9Gk1p-H"
      },
      "outputs": [],
      "source": [
        "#Code here"
      ]
    }
  ]
}