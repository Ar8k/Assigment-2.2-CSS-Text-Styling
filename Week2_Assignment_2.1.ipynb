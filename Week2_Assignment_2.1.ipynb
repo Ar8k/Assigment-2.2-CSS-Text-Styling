{
  "nbformat": 4,
  "nbformat_minor": 0,
  "metadata": {
    "colab": {
      "provenance": [],
      "include_colab_link": true
    },
    "kernelspec": {
      "name": "python3",
      "display_name": "Python 3"
    },
    "language_info": {
      "name": "python"
    }
  },
  "cells": [
    {
      "cell_type": "markdown",
      "metadata": {
        "id": "view-in-github",
        "colab_type": "text"
      },
      "source": [
        "<a href=\"https://colab.research.google.com/github/Ar8k/Assigment-2.2-CSS-Text-Styling/blob/main/Week2_Assignment_2.1.ipynb\" target=\"_parent\"><img src=\"https://colab.research.google.com/assets/colab-badge.svg\" alt=\"Open In Colab\"/></a>"
      ]
    },
    {
      "cell_type": "markdown",
      "source": [
        "**Python Practice**\n",
        "\n",
        "This assignment is to get started with a practice to Python for Data Science.\n",
        "\n",
        "Choose any 6 questions out of the questions below. 6 questions will be graded and the rest can be utilized for some practice."
      ],
      "metadata": {
        "id": "O2PrhW5BvC3E"
      }
    },
    {
      "cell_type": "markdown",
      "source": [
        "Create a string variable greeting containing \"Hello, \" and another variable name containing your name. Concatenate these variables to form a greeting message and print it"
      ],
      "metadata": {
        "id": "ujhMol3ubYaw"
      }
    },
    {
      "cell_type": "code",
      "source": [
        "hi = \"Hello, \" #defining the \"hello,\"\n",
        "name = \"Ahmed\" #defining the name\n",
        "final = hi + name\n",
        "print (final)"
      ],
      "metadata": {
        "id": "Ept6SexKCEwQ",
        "outputId": "ff70e15d-51c5-478b-ce91-d2d37e13841a",
        "colab": {
          "base_uri": "https://localhost:8080/"
        }
      },
      "execution_count": 10,
      "outputs": [
        {
          "output_type": "stream",
          "name": "stdout",
          "text": [
            "Hello, Ahmed\n"
          ]
        }
      ]
    },
    {
      "cell_type": "markdown",
      "source": [
        "Write a Python program which accepts a sequence of comma-separated numbers\n",
        "from the user and generate a list with those numbers. Arrange them in ascending order"
      ],
      "metadata": {
        "id": "q6Q3a2icbfJb"
      }
    },
    {
      "cell_type": "code",
      "source": [
        "#Your answer must go here"
      ],
      "metadata": {
        "id": "9X78pYNWT4aw"
      },
      "execution_count": null,
      "outputs": []
    },
    {
      "cell_type": "markdown",
      "source": [
        "Write a Python program to display the first and last letters from the given list of names: [\"Adam\",\"Alex\",\"Emmanuel\" ,\"Robert\", \"Finn\"]."
      ],
      "metadata": {
        "id": "tD9ZO5LqcPHJ"
      }
    },
    {
      "cell_type": "code",
      "source": [
        "names = [\"Adam\",\"Alex\",\"Emmanuel\" ,\"Robert\", \"Finn\"]\n",
        "for name in names:\n",
        "  first_letr = name[0]\n",
        "  last_ltr = name[-1]\n",
        "  print(f\" {name}: First letter = {first_letr}, Last Letter = {last_ltr}\")"
      ],
      "metadata": {
        "id": "65y1fHv0CVXu",
        "outputId": "1812c9b8-dd00-4170-d61e-789f9fddf79e",
        "colab": {
          "base_uri": "https://localhost:8080/"
        }
      },
      "execution_count": 5,
      "outputs": [
        {
          "output_type": "stream",
          "name": "stdout",
          "text": [
            " Adam: First letter = A, Last Letter = m\n",
            " Alex: First letter = A, Last Letter = x\n",
            " Emmanuel: First letter = E, Last Letter = l\n",
            " Robert: First letter = R, Last Letter = t\n",
            " Finn: First letter = F, Last Letter = n\n"
          ]
        }
      ]
    },
    {
      "cell_type": "markdown",
      "source": [
        "Take a string as an input. Write a python program to create a new string using the first, middle, and last characters of the input string."
      ],
      "metadata": {
        "id": "VyB-z66Vcxjs"
      }
    },
    {
      "cell_type": "code",
      "source": [
        "usr_input = input (\"Enter A word: \") #taking the users input\n",
        "first_character = usr_input[0] #getting the first char from the input\n",
        "middle_character = usr_input[len(usr_input) // 2] #getting the middle char from the input\n",
        "last_character = usr_input[-1] #getting the last char from the input\n",
        "new_wrd = first_character + middle_character + last_character\n",
        "print (\"The new word\", new_wrd)"
      ],
      "metadata": {
        "id": "fywPaeQ9CWoQ",
        "outputId": "f1b0716f-7cc8-4978-d732-585a388bd3a6",
        "colab": {
          "base_uri": "https://localhost:8080/"
        }
      },
      "execution_count": 6,
      "outputs": [
        {
          "output_type": "stream",
          "name": "stdout",
          "text": [
            "Enter A word: Output\n",
            "The new word Opt\n"
          ]
        }
      ]
    },
    {
      "cell_type": "markdown",
      "source": [
        "Write a python program to take a string as an input and reverse it"
      ],
      "metadata": {
        "id": "4KoZnsVnc7K7"
      }
    },
    {
      "cell_type": "code",
      "source": [
        "user_input = input(\"Enter a string: \") #taking the users input\n",
        "reversed_input = user_input[::-1] #reversing the input\n",
        "print (\"Reversed word: \", reversed_input)"
      ],
      "metadata": {
        "id": "-C4HsLcjCXwT",
        "outputId": "a7321160-19a4-4d7f-8274-239431ef1dfb",
        "colab": {
          "base_uri": "https://localhost:8080/"
        }
      },
      "execution_count": 7,
      "outputs": [
        {
          "output_type": "stream",
          "name": "stdout",
          "text": [
            "Enter a string: Maximum\n",
            "Reversed word:  mumixaM\n"
          ]
        }
      ]
    },
    {
      "cell_type": "markdown",
      "source": [
        "**Collections**"
      ],
      "metadata": {
        "id": "x-5HZ4ghtHf-"
      }
    },
    {
      "cell_type": "markdown",
      "source": [
        "Take an input of numbers in a list and create a new list containing only the even numbers from the original list."
      ],
      "metadata": {
        "id": "iGAnSQaMs-kU"
      }
    },
    {
      "cell_type": "code",
      "source": [
        "#Your answer must go here"
      ],
      "metadata": {
        "id": "du-AQi1jCema"
      },
      "execution_count": null,
      "outputs": []
    },
    {
      "cell_type": "markdown",
      "source": [
        "Take a list of strings (words) and create a new list containing the lengths of each word in the original list."
      ],
      "metadata": {
        "id": "2PHWbU8HtNO-"
      }
    },
    {
      "cell_type": "code",
      "source": [
        "words = [\"United States of America\" , \"France\" , \"South Africa\" , \"United Kingdom\"]\n",
        "word_length = [len(word) for word in words]\n",
        "print (\"Length of words: \" , word_length)"
      ],
      "metadata": {
        "id": "S_vHvvR6Cfav",
        "outputId": "575c3d06-104f-4a68-9de8-9f2b77cbe260",
        "colab": {
          "base_uri": "https://localhost:8080/"
        }
      },
      "execution_count": 8,
      "outputs": [
        {
          "output_type": "stream",
          "name": "stdout",
          "text": [
            "Length of words:  [24, 6, 12, 14]\n"
          ]
        }
      ]
    },
    {
      "cell_type": "markdown",
      "source": [
        "Create a dictionary student_grades with keys as student names and values as their respective grades. Find the student with the highest grade and print the output"
      ],
      "metadata": {
        "id": "8gzK9MNStgx5"
      }
    },
    {
      "cell_type": "code",
      "source": [
        "#Your answer must go here"
      ],
      "metadata": {
        "id": "dcUL0Yj3CgVQ"
      },
      "execution_count": null,
      "outputs": []
    },
    {
      "cell_type": "markdown",
      "source": [
        "Define two sets, set1 and set2, containing some common elements. Remove the duplicate elements from set1 that are also present in set2."
      ],
      "metadata": {
        "id": "E1B78qP8tupG"
      }
    },
    {
      "cell_type": "code",
      "source": [
        "#defining the sets\n",
        "set1 = {1,2,3,4,5,6,7,8,9,10}\n",
        "set2 = {5,6,7,8,9,10}\n",
        "set1.difference_update(set2) #remove nums that are in both sets\n",
        "print (\"updated set: \" , set1)"
      ],
      "metadata": {
        "id": "yyD4jH4AChIl",
        "outputId": "1294471b-21ab-4955-b420-17963e067597",
        "colab": {
          "base_uri": "https://localhost:8080/"
        }
      },
      "execution_count": 9,
      "outputs": [
        {
          "output_type": "stream",
          "name": "stdout",
          "text": [
            "updated set:  {1, 2, 3, 4}\n"
          ]
        }
      ]
    },
    {
      "cell_type": "markdown",
      "source": [
        "Create a dictionary word_count to count the occurrences of each word in a given sentence. Print the top 3 most common words along with their counts."
      ],
      "metadata": {
        "id": "2qhPexHqt0fv"
      }
    },
    {
      "cell_type": "code",
      "source": [
        "#Your answer must go here"
      ],
      "metadata": {
        "id": "XmxnACB1CiUV"
      },
      "execution_count": null,
      "outputs": []
    }
  ]
}