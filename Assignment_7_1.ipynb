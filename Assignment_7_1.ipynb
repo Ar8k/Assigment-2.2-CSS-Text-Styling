{
  "nbformat": 4,
  "nbformat_minor": 0,
  "metadata": {
    "colab": {
      "provenance": [],
      "authorship_tag": "ABX9TyNIWUQmJzP2Jjz7HwukgeJa",
      "include_colab_link": true
    },
    "kernelspec": {
      "name": "python3",
      "display_name": "Python 3"
    },
    "language_info": {
      "name": "python"
    }
  },
  "cells": [
    {
      "cell_type": "markdown",
      "metadata": {
        "id": "view-in-github",
        "colab_type": "text"
      },
      "source": [
        "<a href=\"https://colab.research.google.com/github/Ar8k/Assigment-2.2-CSS-Text-Styling/blob/main/Assignment_7_1.ipynb\" target=\"_parent\"><img src=\"https://colab.research.google.com/assets/colab-badge.svg\" alt=\"Open In Colab\"/></a>"
      ]
    },
    {
      "cell_type": "code",
      "execution_count": 5,
      "metadata": {
        "colab": {
          "base_uri": "https://localhost:8080/",
          "height": 437
        },
        "id": "tmT6s7PvCn41",
        "outputId": "278a82bb-0f96-4d06-b2da-244053b5d90e"
      },
      "outputs": [
        {
          "output_type": "display_data",
          "data": {
            "text/plain": [
              "<IPython.core.display.HTML object>"
            ],
            "text/html": [
              "\n",
              "     <input type=\"file\" id=\"files-4575cdcf-9ee7-46e5-b849-afaaeb6595b6\" name=\"files[]\" multiple disabled\n",
              "        style=\"border:none\" />\n",
              "     <output id=\"result-4575cdcf-9ee7-46e5-b849-afaaeb6595b6\">\n",
              "      Upload widget is only available when the cell has been executed in the\n",
              "      current browser session. Please rerun this cell to enable.\n",
              "      </output>\n",
              "      <script>// Copyright 2017 Google LLC\n",
              "//\n",
              "// Licensed under the Apache License, Version 2.0 (the \"License\");\n",
              "// you may not use this file except in compliance with the License.\n",
              "// You may obtain a copy of the License at\n",
              "//\n",
              "//      http://www.apache.org/licenses/LICENSE-2.0\n",
              "//\n",
              "// Unless required by applicable law or agreed to in writing, software\n",
              "// distributed under the License is distributed on an \"AS IS\" BASIS,\n",
              "// WITHOUT WARRANTIES OR CONDITIONS OF ANY KIND, either express or implied.\n",
              "// See the License for the specific language governing permissions and\n",
              "// limitations under the License.\n",
              "\n",
              "/**\n",
              " * @fileoverview Helpers for google.colab Python module.\n",
              " */\n",
              "(function(scope) {\n",
              "function span(text, styleAttributes = {}) {\n",
              "  const element = document.createElement('span');\n",
              "  element.textContent = text;\n",
              "  for (const key of Object.keys(styleAttributes)) {\n",
              "    element.style[key] = styleAttributes[key];\n",
              "  }\n",
              "  return element;\n",
              "}\n",
              "\n",
              "// Max number of bytes which will be uploaded at a time.\n",
              "const MAX_PAYLOAD_SIZE = 100 * 1024;\n",
              "\n",
              "function _uploadFiles(inputId, outputId) {\n",
              "  const steps = uploadFilesStep(inputId, outputId);\n",
              "  const outputElement = document.getElementById(outputId);\n",
              "  // Cache steps on the outputElement to make it available for the next call\n",
              "  // to uploadFilesContinue from Python.\n",
              "  outputElement.steps = steps;\n",
              "\n",
              "  return _uploadFilesContinue(outputId);\n",
              "}\n",
              "\n",
              "// This is roughly an async generator (not supported in the browser yet),\n",
              "// where there are multiple asynchronous steps and the Python side is going\n",
              "// to poll for completion of each step.\n",
              "// This uses a Promise to block the python side on completion of each step,\n",
              "// then passes the result of the previous step as the input to the next step.\n",
              "function _uploadFilesContinue(outputId) {\n",
              "  const outputElement = document.getElementById(outputId);\n",
              "  const steps = outputElement.steps;\n",
              "\n",
              "  const next = steps.next(outputElement.lastPromiseValue);\n",
              "  return Promise.resolve(next.value.promise).then((value) => {\n",
              "    // Cache the last promise value to make it available to the next\n",
              "    // step of the generator.\n",
              "    outputElement.lastPromiseValue = value;\n",
              "    return next.value.response;\n",
              "  });\n",
              "}\n",
              "\n",
              "/**\n",
              " * Generator function which is called between each async step of the upload\n",
              " * process.\n",
              " * @param {string} inputId Element ID of the input file picker element.\n",
              " * @param {string} outputId Element ID of the output display.\n",
              " * @return {!Iterable<!Object>} Iterable of next steps.\n",
              " */\n",
              "function* uploadFilesStep(inputId, outputId) {\n",
              "  const inputElement = document.getElementById(inputId);\n",
              "  inputElement.disabled = false;\n",
              "\n",
              "  const outputElement = document.getElementById(outputId);\n",
              "  outputElement.innerHTML = '';\n",
              "\n",
              "  const pickedPromise = new Promise((resolve) => {\n",
              "    inputElement.addEventListener('change', (e) => {\n",
              "      resolve(e.target.files);\n",
              "    });\n",
              "  });\n",
              "\n",
              "  const cancel = document.createElement('button');\n",
              "  inputElement.parentElement.appendChild(cancel);\n",
              "  cancel.textContent = 'Cancel upload';\n",
              "  const cancelPromise = new Promise((resolve) => {\n",
              "    cancel.onclick = () => {\n",
              "      resolve(null);\n",
              "    };\n",
              "  });\n",
              "\n",
              "  // Wait for the user to pick the files.\n",
              "  const files = yield {\n",
              "    promise: Promise.race([pickedPromise, cancelPromise]),\n",
              "    response: {\n",
              "      action: 'starting',\n",
              "    }\n",
              "  };\n",
              "\n",
              "  cancel.remove();\n",
              "\n",
              "  // Disable the input element since further picks are not allowed.\n",
              "  inputElement.disabled = true;\n",
              "\n",
              "  if (!files) {\n",
              "    return {\n",
              "      response: {\n",
              "        action: 'complete',\n",
              "      }\n",
              "    };\n",
              "  }\n",
              "\n",
              "  for (const file of files) {\n",
              "    const li = document.createElement('li');\n",
              "    li.append(span(file.name, {fontWeight: 'bold'}));\n",
              "    li.append(span(\n",
              "        `(${file.type || 'n/a'}) - ${file.size} bytes, ` +\n",
              "        `last modified: ${\n",
              "            file.lastModifiedDate ? file.lastModifiedDate.toLocaleDateString() :\n",
              "                                    'n/a'} - `));\n",
              "    const percent = span('0% done');\n",
              "    li.appendChild(percent);\n",
              "\n",
              "    outputElement.appendChild(li);\n",
              "\n",
              "    const fileDataPromise = new Promise((resolve) => {\n",
              "      const reader = new FileReader();\n",
              "      reader.onload = (e) => {\n",
              "        resolve(e.target.result);\n",
              "      };\n",
              "      reader.readAsArrayBuffer(file);\n",
              "    });\n",
              "    // Wait for the data to be ready.\n",
              "    let fileData = yield {\n",
              "      promise: fileDataPromise,\n",
              "      response: {\n",
              "        action: 'continue',\n",
              "      }\n",
              "    };\n",
              "\n",
              "    // Use a chunked sending to avoid message size limits. See b/62115660.\n",
              "    let position = 0;\n",
              "    do {\n",
              "      const length = Math.min(fileData.byteLength - position, MAX_PAYLOAD_SIZE);\n",
              "      const chunk = new Uint8Array(fileData, position, length);\n",
              "      position += length;\n",
              "\n",
              "      const base64 = btoa(String.fromCharCode.apply(null, chunk));\n",
              "      yield {\n",
              "        response: {\n",
              "          action: 'append',\n",
              "          file: file.name,\n",
              "          data: base64,\n",
              "        },\n",
              "      };\n",
              "\n",
              "      let percentDone = fileData.byteLength === 0 ?\n",
              "          100 :\n",
              "          Math.round((position / fileData.byteLength) * 100);\n",
              "      percent.textContent = `${percentDone}% done`;\n",
              "\n",
              "    } while (position < fileData.byteLength);\n",
              "  }\n",
              "\n",
              "  // All done.\n",
              "  yield {\n",
              "    response: {\n",
              "      action: 'complete',\n",
              "    }\n",
              "  };\n",
              "}\n",
              "\n",
              "scope.google = scope.google || {};\n",
              "scope.google.colab = scope.google.colab || {};\n",
              "scope.google.colab._files = {\n",
              "  _uploadFiles,\n",
              "  _uploadFilesContinue,\n",
              "};\n",
              "})(self);\n",
              "</script> "
            ]
          },
          "metadata": {}
        },
        {
          "output_type": "stream",
          "name": "stdout",
          "text": [
            "Saving Fast-Food Chains in USA.csv to Fast-Food Chains in USA (1).csv\n",
            "File loaded\n",
            "  Fast-Food Chains  U.S. Systemwide Sales (Millions - U.S Dollars)  \\\n",
            "0           Arby’s                                            4462   \n",
            "1   Baskin-Robbins                                             686   \n",
            "2        Bojangles                                            1485   \n",
            "3      Burger King                                           10033   \n",
            "4       Carl’s Jr.                                            1560   \n",
            "\n",
            "   Average Sales per Unit (Thousands - U.S Dollars)  Franchised Stores  \\\n",
            "0                                              1309               2293   \n",
            "1                                               296               2317   \n",
            "2                                              1924                496   \n",
            "3                                              1470               7054   \n",
            "4                                              1400               1011   \n",
            "\n",
            "   Company Stores  2021 Total Units  Total Change in Units from 2020  \n",
            "0            1116              3409                               40  \n",
            "1               0              2317                              102  \n",
            "2             277               773                               15  \n",
            "3              51              7105                               24  \n",
            "4              47              1058                              -21  \n"
          ]
        }
      ],
      "source": [
        "import pandas as pd\n",
        "from google.colab import files\n",
        "\n",
        "uploaded = files.upload()\n",
        "\n",
        "Fast_food= list(uploaded.keys())[0]\n",
        "df = pd.read_csv(Fast_food)\n",
        "\n",
        "\n",
        "print(\"File loaded\")\n",
        "print(df.head())\n"
      ]
    },
    {
      "cell_type": "code",
      "source": [
        "\n",
        "df = pd.read_csv(Fast_food)\n",
        "\n",
        "df.loc[df[\"Fast-Food Chains\"] == \"McDonald's\", \"U.S. Systemwide Sales (Millions - U.S Dollars)\"] = 40000\n",
        "\n",
        "print(df[df[\"Fast-Food Chains\"] == \"McDonald's\"])\n"
      ],
      "metadata": {
        "colab": {
          "base_uri": "https://localhost:8080/"
        },
        "id": "qFGcfPvcDovt",
        "outputId": "9eeb1936-bfde-490a-f711-990da7da9086"
      },
      "execution_count": 8,
      "outputs": [
        {
          "output_type": "stream",
          "name": "stdout",
          "text": [
            "Empty DataFrame\n",
            "Columns: [Fast-Food Chains, U.S. Systemwide Sales (Millions - U.S Dollars), Average Sales per Unit (Thousands - U.S Dollars), Franchised Stores, Company Stores, 2021 Total Units, Total Change in Units from 2020]\n",
            "Index: []\n"
          ]
        }
      ]
    },
    {
      "cell_type": "code",
      "source": [
        "df = pd.read_csv(Fast_food)\n",
        "\n",
        "avg_10 = df.sort_values( by=\"Average Sales per Unit (Thousands - U.S Dollars)\", ascending=False ).head(10)[[\"Fast-Food Chains\", \"Average Sales per Unit (Thousands - U.S Dollars)\"]]\n",
        "print(avg_10)\n",
        "\n",
        "\n"
      ],
      "metadata": {
        "colab": {
          "base_uri": "https://localhost:8080/"
        },
        "id": "MfAf9BmjEQj4",
        "outputId": "a93d83e5-da1f-4afe-f02f-156b412f5a38"
      },
      "execution_count": 11,
      "outputs": [
        {
          "output_type": "stream",
          "name": "stdout",
          "text": [
            "   Fast-Food Chains  Average Sales per Unit (Thousands - U.S Dollars)\n",
            "6       Chick-fil-A                                              6100\n",
            "37   Raising Cane’s                                              4893\n",
            "24     Krispy Kreme                                              4000\n",
            "38      Shake Shack                                              3679\n",
            "46      Whataburger                                              3640\n",
            "28       McDonald’s                                              3420\n",
            "19  In-N-Out Burger                                              3200\n",
            "16        Five Guys                                              3172\n",
            "9          Culver’s                                              3099\n",
            "31     Panera Bread                                              2700\n"
          ]
        }
      ]
    },
    {
      "cell_type": "code",
      "source": [
        "df = pd.read_csv(Fast_food)\n",
        "\n",
        "units_21 = df[[\"Fast-Food Chains\", \"2021 Total Units\"]]\n",
        "print(units_21)"
      ],
      "metadata": {
        "colab": {
          "base_uri": "https://localhost:8080/"
        },
        "id": "SDiCBlznE1Da",
        "outputId": "139d8fdc-32ab-4598-c7fb-052b7ea08559"
      },
      "execution_count": 12,
      "outputs": [
        {
          "output_type": "stream",
          "name": "stdout",
          "text": [
            "                          Fast-Food Chains  2021 Total Units\n",
            "0                                   Arby’s              3409\n",
            "1                           Baskin-Robbins              2317\n",
            "2                                Bojangles               773\n",
            "3                              Burger King              7105\n",
            "4                               Carl’s Jr.              1058\n",
            "5                         Checkers/Rally’s               834\n",
            "6                              Chick-fil-A              2732\n",
            "7                                 Chipotle              2966\n",
            "8                         Church’s Chicken               892\n",
            "9                                 Culver’s               837\n",
            "10                             Dairy Queen              4339\n",
            "11                                Del Taco               600\n",
            "12                                Domino's              6560\n",
            "13                                 Dunkin'              9244\n",
            "14                           El Pollo Loco               481\n",
            "15                          Firehouse Subs              1140\n",
            "16                               Five Guys              1390\n",
            "17  Freddy’s Frozen Custard & Steakburgers               420\n",
            "18                                Hardee’s              1734\n",
            "19                         In-N-Out Burger               370\n",
            "20                         Jack in the Box              2218\n",
            "21                           Jersey Mike’s              2100\n",
            "22                            Jimmy John’s              2657\n",
            "23                                     KFC              3953\n",
            "24                            Krispy Kreme               358\n",
            "25                          Little Caesars              4181\n",
            "26                           Marco’s Pizza              1002\n",
            "27                        McAlister’s Deli               505\n",
            "28                              McDonald’s             13438\n",
            "29                   Moe’s Southwest Grill               659\n",
            "30                           Panda Express              2334\n",
            "31                            Panera Bread              2080\n",
            "32                              Papa Johns              3164\n",
            "33                           Papa Murphy’s              1240\n",
            "34                               Pizza Hut              6548\n",
            "35               Popeyes Louisiana Kitchen              2754\n",
            "36                                   QDOBA               739\n",
            "37                          Raising Cane’s               567\n",
            "38                             Shake Shack               243\n",
            "39                          Sonic Drive-In              3552\n",
            "40                               Starbucks             15450\n",
            "41                                  Subway             21147\n",
            "42                               Taco Bell              7002\n",
            "43                             Tim Hortons               637\n",
            "44                  Tropical Smoothie Cafe              1039\n",
            "45                                 Wendy's              5938\n",
            "46                             Whataburger               873\n",
            "47                            White Castle               349\n",
            "48                                Wingstop              1534\n",
            "49                                 Zaxby’s               908\n"
          ]
        }
      ]
    },
    {
      "cell_type": "code",
      "source": [
        "df = pd.read_csv(Fast_food)\n",
        "\n",
        "\n",
        "franchised_s = df[df[\"Franchised Stores\"] > df[\"Company Stores\"]][[\"Fast-Food Chains\", \"Franchised Stores\", \"Company Stores\"]]\n",
        "print(franchised_s)"
      ],
      "metadata": {
        "colab": {
          "base_uri": "https://localhost:8080/"
        },
        "id": "NIgEcJQTE_rn",
        "outputId": "f852095a-c937-4c85-f4f8-2d64aa4a14d5"
      },
      "execution_count": 13,
      "outputs": [
        {
          "output_type": "stream",
          "name": "stdout",
          "text": [
            "                          Fast-Food Chains  Franchised Stores  Company Stores\n",
            "0                                   Arby’s               2293            1116\n",
            "1                           Baskin-Robbins               2317               0\n",
            "2                                Bojangles                496             277\n",
            "3                              Burger King               7054              51\n",
            "4                               Carl’s Jr.               1011              47\n",
            "5                         Checkers/Rally’s                568             266\n",
            "6                              Chick-fil-A               2650              82\n",
            "8                         Church’s Chicken                731             161\n",
            "9                                 Culver’s                831               6\n",
            "10                             Dairy Queen               4337               2\n",
            "11                                Del Taco                306             294\n",
            "12                                Domino's               6185             375\n",
            "13                                 Dunkin'               9244               0\n",
            "14                           El Pollo Loco                292             189\n",
            "15                          Firehouse Subs               1101              39\n",
            "16                               Five Guys                911             479\n",
            "17  Freddy’s Frozen Custard & Steakburgers                391              29\n",
            "18                                Hardee’s               1536             198\n",
            "20                         Jack in the Box               2055             163\n",
            "21                           Jersey Mike’s               2087              13\n",
            "22                            Jimmy John’s               2616              41\n",
            "23                                     KFC               3906              47\n",
            "25                          Little Caesars               3601             580\n",
            "26                           Marco’s Pizza                957              45\n",
            "27                        McAlister’s Deli                472              33\n",
            "28                              McDonald’s              12775             663\n",
            "29                   Moe’s Southwest Grill                658               1\n",
            "31                            Panera Bread               1130             950\n",
            "32                              Papa Johns               2564             600\n",
            "33                           Papa Murphy’s               1213              27\n",
            "34                               Pizza Hut               6526              22\n",
            "35               Popeyes Louisiana Kitchen               2716              41\n",
            "36                                   QDOBA                406             333\n",
            "39                          Sonic Drive-In               3232             320\n",
            "41                                  Subway              21147               0\n",
            "42                               Taco Bell               6540             462\n",
            "43                             Tim Hortons                637               0\n",
            "44                  Tropical Smoothie Cafe               1038               1\n",
            "45                                 Wendy's               5535             403\n",
            "48                                Wingstop               1498              36\n",
            "49                                 Zaxby’s                761             147\n"
          ]
        }
      ]
    },
    {
      "cell_type": "code",
      "source": [
        "df = pd.read_csv(Fast_food)\n",
        "\n",
        "\n",
        "df_cleaned = df[df[\"Total Change in Units from 2020\"] >= 0]\n",
        "print(df_cleaned.head())\n",
        "print(\"Remaining rows:\", len(df_cleaned))"
      ],
      "metadata": {
        "colab": {
          "base_uri": "https://localhost:8080/"
        },
        "id": "0sAfwWlJFQRt",
        "outputId": "72b542bc-3266-4c35-b2ae-bae11af2878b"
      },
      "execution_count": 15,
      "outputs": [
        {
          "output_type": "stream",
          "name": "stdout",
          "text": [
            "  Fast-Food Chains  U.S. Systemwide Sales (Millions - U.S Dollars)  \\\n",
            "0           Arby’s                                            4462   \n",
            "1   Baskin-Robbins                                             686   \n",
            "2        Bojangles                                            1485   \n",
            "3      Burger King                                           10033   \n",
            "6      Chick-fil-A                                           16700   \n",
            "\n",
            "   Average Sales per Unit (Thousands - U.S Dollars)  Franchised Stores  \\\n",
            "0                                              1309               2293   \n",
            "1                                               296               2317   \n",
            "2                                              1924                496   \n",
            "3                                              1470               7054   \n",
            "6                                              6100               2650   \n",
            "\n",
            "   Company Stores  2021 Total Units  Total Change in Units from 2020  \n",
            "0            1116              3409                               40  \n",
            "1               0              2317                              102  \n",
            "2             277               773                               15  \n",
            "3              51              7105                               24  \n",
            "6              82              2732                              155  \n",
            "Remaining rows: 37\n"
          ]
        }
      ]
    }
  ]
}