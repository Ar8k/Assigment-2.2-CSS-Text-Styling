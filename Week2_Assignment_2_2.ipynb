{
  "nbformat": 4,
  "nbformat_minor": 0,
  "metadata": {
    "colab": {
      "provenance": [],
      "include_colab_link": true
    },
    "kernelspec": {
      "name": "python3",
      "display_name": "Python 3"
    },
    "language_info": {
      "name": "python"
    }
  },
  "cells": [
    {
      "cell_type": "markdown",
      "metadata": {
        "id": "view-in-github",
        "colab_type": "text"
      },
      "source": [
        "<a href=\"https://colab.research.google.com/github/Ar8k/Assigment-2.2-CSS-Text-Styling/blob/main/Week2_Assignment_2_2.ipynb\" target=\"_parent\"><img src=\"https://colab.research.google.com/assets/colab-badge.svg\" alt=\"Open In Colab\"/></a>"
      ]
    },
    {
      "cell_type": "code",
      "source": [
        "import numpy as np"
      ],
      "metadata": {
        "id": "B9BZ0z0dcHSO"
      },
      "execution_count": 1,
      "outputs": []
    },
    {
      "cell_type": "markdown",
      "source": [
        "Write a NumPy program to reshape this 1D array [1 2 3 4 5 6] into a 2D array with 2 rows."
      ],
      "metadata": {
        "id": "kz7jtNtR-HkY"
      }
    },
    {
      "cell_type": "code",
      "source": [
        "array = np.array([1,2,3,4,5,6]) #making the array\n",
        "\n",
        "new_array = array.reshape(2,3) # defining the new array and reshaping the old one\n",
        "print(new_array)"
      ],
      "metadata": {
        "id": "tGeeYHv-cOLw",
        "outputId": "fc1fa36a-90f7-4472-c92e-08f182c4182c",
        "colab": {
          "base_uri": "https://localhost:8080/"
        }
      },
      "execution_count": 5,
      "outputs": [
        {
          "output_type": "stream",
          "name": "stdout",
          "text": [
            "[[1 2 3]\n",
            " [4 5 6]]\n"
          ]
        }
      ]
    },
    {
      "cell_type": "markdown",
      "source": [
        "Write a NumPy program to perform matrix multiplication between a 3x3 matrix and a 3x2 matrix"
      ],
      "metadata": {
        "id": "_kKotX90-Ltr"
      }
    },
    {
      "cell_type": "code",
      "source": [
        "array_3x3 = np.array ([[1,2,3],[4,5,6],[7,8,9]]) #defining the matrix (second dim array)\n",
        "array_3x2 = np.array ([[1,2],[3,4],[5,6]])\n",
        "result = array_3x3@array_3x2 #multiplying the 2 matrix's\n",
        "print (result)"
      ],
      "metadata": {
        "id": "2F8iPeyMeAwp",
        "outputId": "732aaca3-b975-41a4-bb28-1beff655cf9e",
        "colab": {
          "base_uri": "https://localhost:8080/"
        }
      },
      "execution_count": 9,
      "outputs": [
        {
          "output_type": "stream",
          "name": "stdout",
          "text": [
            "[[ 22  28]\n",
            " [ 49  64]\n",
            " [ 76 100]]\n"
          ]
        }
      ]
    },
    {
      "cell_type": "markdown",
      "source": [
        "Write a NumPy program to find the most frequent value and the number of times it occured in the array\n",
        "\n",
        "\n",
        "[\n",
        "\n",
        "    [1, 2, 3, 2, 1],\n",
        "    [4, 2, 5, 2, 6],\n",
        "    [2, 1, 2, 3, 2],\n",
        "    [7, 2, 8, 2, 9]  \n",
        " ]"
      ],
      "metadata": {
        "id": "4AaHHXgP-U2H"
      }
    },
    {
      "cell_type": "code",
      "execution_count": 6,
      "metadata": {
        "id": "FE8o-YBf-efj",
        "outputId": "7ce81eb3-c2ac-4719-fa4f-817581b3f6f1",
        "colab": {
          "base_uri": "https://localhost:8080/"
        }
      },
      "outputs": [
        {
          "output_type": "stream",
          "name": "stdout",
          "text": [
            "The most shown number is: 2 and it was shown 9 times\n"
          ]
        }
      ],
      "source": [
        "array1 = np.array ([\n",
        "[1, 2, 3, 2, 1],\n",
        "[4, 2, 5, 2, 6],\n",
        "[2, 1, 2, 3, 2],\n",
        "[7, 2, 8, 2, 9] ])\n",
        "\n",
        "unique, counts =np.unique(array1, return_counts=True) #finding the unique numbers and their counts\n",
        "max_numb = np.argmax(counts) #get the numb with the most shown\n",
        "most_shown_numb = unique[max_numb]\n",
        "times_shown = counts[max_numb]\n",
        "\n",
        "print(f\"The most shown number is: {most_shown_numb} and it was shown {times_shown} times\")\n"
      ]
    },
    {
      "cell_type": "markdown",
      "source": [
        "Given a NumPy array representing a dataset with missing values, write a program to replace all the missing values (NaNs) with the mean of the respective column.\n",
        "\n",
        "[  [ 1.  2. nan  4.  5.],\n",
        "\n",
        " [ 6. nan  8.  9. 10.],\n",
        "\n",
        " [11. 12. 13. nan 15.],\n",
        "\n",
        " [16. 17. nan 19. 20.],\n",
        "\n",
        " [nan 22. 23. 24. 25.]  ]"
      ],
      "metadata": {
        "id": "_dN47xLJ-jDC"
      }
    },
    {
      "cell_type": "code",
      "execution_count": 12,
      "metadata": {
        "id": "NItipXf4-qX7",
        "outputId": "9829c9b1-a8b4-4a07-9929-75e237497e9e",
        "colab": {
          "base_uri": "https://localhost:8080/"
        }
      },
      "outputs": [
        {
          "output_type": "stream",
          "name": "stdout",
          "text": [
            "[[ 1.          2.         14.66666667  4.          5.        ]\n",
            " [ 6.         13.25        8.          9.         10.        ]\n",
            " [11.         12.         13.         14.         15.        ]\n",
            " [16.         17.         14.66666667 19.         20.        ]\n",
            " [ 8.5        22.         23.         24.         25.        ]]\n"
          ]
        }
      ],
      "source": [
        "data_set = np.array ([\n",
        "[ 1., 2., np.nan, 4., 5.],\n",
        "\n",
        "[ 6., np.nan, 8., 9., 10.],\n",
        "\n",
        "[11., 12., 13., np.nan, 15.],\n",
        "\n",
        "[16., 17., np.nan, 19., 20.],\n",
        "\n",
        "[np.nan, 22., 23., 24., 25.] ]) #defining the array (the data)\n",
        "\n",
        "column_avg = np.nanmean(data_set, axis=0) #getting the mean of all columns and ignoring nan\n",
        "\n",
        "find_nan = np.isnan(data_set) #finding nan in the dataset\n",
        "\n",
        "data_set[find_nan] =np.take(column_avg, np.where(find_nan)[1]) #replacing each nan with the correct column avg\n",
        "\n",
        "print (data_set)"
      ]
    },
    {
      "cell_type": "markdown",
      "source": [
        "Write a program that takes a NumPy array representing a dataset with a column of dates and create a new column extracting the month of each date.\n",
        "\n",
        "np.array([\n",
        "\n",
        "    ('2024-01-15', 10, 100),\n",
        "    ('2024-02-28', 15, 150),\n",
        "    ('2024-03-10', 20, 200),\n",
        "    ('2024-04-22', 25, 250),\n",
        "    ('2024-05-05', 30, 300),\n",
        "    ('2024-06-18', 35, 350),\n",
        "    ('2024-07-30', 40, 400),\n",
        "    ('2024-08-12', 45, 450),\n",
        "    ('2024-09-25', 50, 500),\n",
        "    ('2024-10-07', 55, 550)\n",
        "]"
      ],
      "metadata": {
        "id": "xOZ-z86J-l-q"
      }
    },
    {
      "cell_type": "code",
      "execution_count": 17,
      "metadata": {
        "id": "HOzzT0QO-qrM",
        "outputId": "e53f573d-092c-4fe5-f96f-0dd454d8787e",
        "colab": {
          "base_uri": "https://localhost:8080/"
        }
      },
      "outputs": [
        {
          "output_type": "stream",
          "name": "stdout",
          "text": [
            "Dataset with month columns:  [['2024-01-15' 10 100 '01']\n",
            " ['2024-02-28' 15 150 '02']\n",
            " ['2024-03-10' 20 200 '03']\n",
            " ['2024-04-22' 25 250 '04']\n",
            " ['2024-05-05' 30 300 '05']\n",
            " ['2024-06-18' 35 350 '06']\n",
            " ['2024-07-30' 40 400 '07']\n",
            " ['2024-08-12' 45 450 '08']\n",
            " ['2024-09-25' 50 500 '09']\n",
            " ['2024-10-07' 55 550 '10']]\n"
          ]
        }
      ],
      "source": [
        "dataset = np.array ([\n",
        "('2024-01-15', 10, 100),\n",
        "('2024-02-28', 15, 150),\n",
        "('2024-03-10', 20, 200),\n",
        "('2024-04-22', 25, 250),\n",
        "('2024-05-05', 30, 300),\n",
        "('2024-06-18', 35, 350),\n",
        "('2024-07-30', 40, 400),\n",
        "('2024-08-12', 45, 450),\n",
        "('2024-09-25', 50, 500),\n",
        "('2024-10-07', 55, 550)] , dtype=object) #defining the data, also adding the dtype as strings\n",
        "\n",
        "months = [row[0][5:7] for row in dataset] #getting the month part alone from the string in the rows\n",
        "new_dataset = np.column_stack ((dataset, months))\n",
        "print( \"Dataset with month columns: \" , new_dataset)"
      ]
    }
  ]
}